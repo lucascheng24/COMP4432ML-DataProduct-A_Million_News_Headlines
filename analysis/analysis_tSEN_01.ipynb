{
  "nbformat": 4,
  "nbformat_minor": 0,
  "metadata": {
    "colab": {
      "provenance": []
    },
    "kernelspec": {
      "name": "python3",
      "display_name": "Python 3"
    },
    "language_info": {
      "name": "python"
    }
  },
  "cells": [
    {
      "cell_type": "code",
      "execution_count": 2,
      "metadata": {
        "id": "Jg_RUXYlq2RX"
      },
      "outputs": [],
      "source": [
        "import nltk\n",
        "import string\n",
        "import numpy as np\n",
        "import pandas as pd\n",
        "import matplotlib.pyplot as plt\n",
        "from sklearn.manifold import TSNE\n",
        "from sklearn.feature_extraction.text import TfidfVectorizer"
      ]
    },
    {
      "cell_type": "code",
      "source": [
        "url = 'https://raw.githubusercontent.com/lucascheng24/COMP4432ML-DataProduct-A_Million_News_Headlines/main/raw_data/abcnews-date-text.csv'\n",
        "\n",
        "\n",
        "df = pd.read_csv(url)\n",
        "\n",
        "headlines = df['headline_text']"
      ],
      "metadata": {
        "id": "6w0ekPnBq5cR"
      },
      "execution_count": 3,
      "outputs": []
    },
    {
      "cell_type": "code",
      "source": [
        "nltk.download('stopwords')\n",
        "nltk.download('punkt')"
      ],
      "metadata": {
        "colab": {
          "base_uri": "https://localhost:8080/"
        },
        "id": "StDWyCtZq6vF",
        "outputId": "45dc9642-446b-482d-a889-17a1535ffdf9"
      },
      "execution_count": 4,
      "outputs": [
        {
          "output_type": "stream",
          "name": "stderr",
          "text": [
            "[nltk_data] Downloading package stopwords to /root/nltk_data...\n",
            "[nltk_data]   Unzipping corpora/stopwords.zip.\n",
            "[nltk_data] Downloading package punkt to /root/nltk_data...\n",
            "[nltk_data]   Unzipping tokenizers/punkt.zip.\n"
          ]
        },
        {
          "output_type": "execute_result",
          "data": {
            "text/plain": [
              "True"
            ]
          },
          "metadata": {},
          "execution_count": 4
        }
      ]
    },
    {
      "cell_type": "code",
      "source": [
        "from nltk.tokenize import word_tokenize\n",
        "from nltk.corpus import stopwords\n",
        "\n",
        "\n",
        "stop_words = set(stopwords.words('english'))\n",
        "punctuation = set(string.punctuation)\n",
        "\n",
        "def preprocess(text):\n",
        "    tokens = word_tokenize(text.lower())\n",
        "    tokens = [token for token in tokens if token not in stop_words and token not in punctuation]\n",
        "    return tokens\n",
        "\n",
        "preprocessed_headlines = [preprocess(headline) for headline in headlines]\n",
        "\n",
        "# Convert preprocessed_headlines to a NumPy array\n",
        "preprocessed_headlines_np = np.array(preprocessed_headlines)"
      ],
      "metadata": {
        "colab": {
          "base_uri": "https://localhost:8080/"
        },
        "id": "TLpqPq-qq8Ny",
        "outputId": "354b4074-2a1e-4075-f2ce-27fcfc0fea8c"
      },
      "execution_count": 5,
      "outputs": [
        {
          "output_type": "stream",
          "name": "stderr",
          "text": [
            "<ipython-input-5-119452ab1f96>:16: VisibleDeprecationWarning: Creating an ndarray from ragged nested sequences (which is a list-or-tuple of lists-or-tuples-or ndarrays with different lengths or shapes) is deprecated. If you meant to do this, you must specify 'dtype=object' when creating the ndarray.\n",
            "  preprocessed_headlines_np = np.array(preprocessed_headlines)\n"
          ]
        }
      ]
    },
    {
      "cell_type": "code",
      "source": [
        "# Select 1/10 sample from preprocessed_headlines_np\n",
        "np.random.seed(4432)\n",
        "sample_size = len(preprocessed_headlines_np) // 10\n",
        "sample_indices = np.random.choice(len(preprocessed_headlines_np), sample_size, replace=False)\n",
        "sample_headlines_np = preprocessed_headlines_np[sample_indices]\n",
        "\n",
        "print(sample_headlines_np)"
      ],
      "metadata": {
        "colab": {
          "base_uri": "https://localhost:8080/"
        },
        "id": "C_RV42sFsAum",
        "outputId": "262313fd-b39e-42c6-b5c3-818d3be456c1"
      },
      "execution_count": 6,
      "outputs": [
        {
          "output_type": "stream",
          "name": "stdout",
          "text": [
            "[list(['govt', 'urged', 'release', 'sustainability', 'grants'])\n",
            " list(['whatmore', 'names', 'side', 'one', 'dayers'])\n",
            " list(['driverless', 'cars', 'adelaide', 'trials', 'closer', 'according', 'raa'])\n",
            " ... list(['reserve', 'reopens', 'blaze'])\n",
            " list(['american', 'protests', 'islamic', 'law'])\n",
            " list(['bbc', 'eyes', 'music', 'download', 'business'])]\n"
          ]
        }
      ]
    },
    {
      "cell_type": "code",
      "source": [
        "len(sample_headlines_np)"
      ],
      "metadata": {
        "colab": {
          "base_uri": "https://localhost:8080/"
        },
        "id": "ITwawxVJtWB-",
        "outputId": "c3bb0e63-8361-4948-c585-9561e3b62276"
      },
      "execution_count": 9,
      "outputs": [
        {
          "output_type": "execute_result",
          "data": {
            "text/plain": [
              "124418"
            ]
          },
          "metadata": {},
          "execution_count": 9
        }
      ]
    },
    {
      "cell_type": "code",
      "source": [
        "for headline in sample_headlines_np[0:10]:\n",
        "  print(headline)"
      ],
      "metadata": {
        "colab": {
          "base_uri": "https://localhost:8080/"
        },
        "id": "PMA3aD-2q-wI",
        "outputId": "04720033-7109-410a-f114-32d56d292d62"
      },
      "execution_count": 7,
      "outputs": [
        {
          "output_type": "stream",
          "name": "stdout",
          "text": [
            "['govt', 'urged', 'release', 'sustainability', 'grants']\n",
            "['whatmore', 'names', 'side', 'one', 'dayers']\n",
            "['driverless', 'cars', 'adelaide', 'trials', 'closer', 'according', 'raa']\n",
            "['star', 'wars', 'quiz', 'test', 'knowledge', 'galaxy', 'far', 'far', 'away']\n",
            "['student', 'success', 'ascribed', 'support', 'network']\n",
            "['galarrwuy', 'yunupingu', 'awarded', 'honorary', 'doctorate', 'garma', 'festival']\n",
            "['tsunami', 'kills', 'least', '8', 'malaysia']\n",
            "['date', 'draft', 'basin', 'plan']\n",
            "['mining', 'town', 'suffering', 'damage', 'destruction', 'vacant', 'houses']\n",
            "['roberts', 'welcomes', 'dog', 'eat', 'dog', 'test']\n"
          ]
        }
      ]
    },
    {
      "cell_type": "code",
      "source": [
        "preprocessed_headlines_str = [' '.join(sublist) for sublist in sample_headlines_np]\n",
        "for headline in preprocessed_headlines_str[0:10]:\n",
        "  print(headline)"
      ],
      "metadata": {
        "colab": {
          "base_uri": "https://localhost:8080/"
        },
        "id": "2zwxE9ZtrBkM",
        "outputId": "253757ed-45cf-4315-b629-dec98c5729fc"
      },
      "execution_count": 8,
      "outputs": [
        {
          "output_type": "stream",
          "name": "stdout",
          "text": [
            "govt urged release sustainability grants\n",
            "whatmore names side one dayers\n",
            "driverless cars adelaide trials closer according raa\n",
            "star wars quiz test knowledge galaxy far far away\n",
            "student success ascribed support network\n",
            "galarrwuy yunupingu awarded honorary doctorate garma festival\n",
            "tsunami kills least 8 malaysia\n",
            "date draft basin plan\n",
            "mining town suffering damage destruction vacant houses\n",
            "roberts welcomes dog eat dog test\n"
          ]
        }
      ]
    },
    {
      "cell_type": "code",
      "source": [
        "# Create a TF-IDF vectorizer to convert the headlines to vectors\n",
        "vectorizer = TfidfVectorizer()\n",
        "\n",
        "X = vectorizer.fit_transform(preprocessed_headlines_str)\n",
        "\n",
        "# Apply t-SNE to reduce the dimensionality of the vectors to 2D\n",
        "tsne = TSNE(n_components=2, perplexity=5, random_state=42, init=\"random\")\n",
        "X_tsne = tsne.fit_transform(X)\n",
        "\n",
        "# Plot the 2D projection of the headlines\n",
        "plt.scatter(X_tsne[:, 0], X_tsne[:, 1])\n",
        "plt.show()"
      ],
      "metadata": {
        "colab": {
          "base_uri": "https://localhost:8080/",
          "height": 430
        },
        "id": "EW9rjl0jrFA4",
        "outputId": "0b090ee8-f812-45aa-dade-6f177a761530"
      },
      "execution_count": 10,
      "outputs": [
        {
          "output_type": "display_data",
          "data": {
            "text/plain": [
              "<Figure size 640x480 with 1 Axes>"
            ],
            "image/png": "[encoded data removed]"
          },
          "metadata": {}
        }
      ]
    }
  ]
}
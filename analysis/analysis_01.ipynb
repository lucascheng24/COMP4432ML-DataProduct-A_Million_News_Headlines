{
  "cells": [
    {
      "attachments": {},
      "cell_type": "markdown",
      "metadata": {},
      "source": [
        "the result is cluster 2 scores the best"
      ]
    },
    {
      "cell_type": "markdown",
      "metadata": {
        "colab_type": "text",
        "id": "view-in-github"
      },
      "source": [
        "<a href=\"https://colab.research.google.com/github/lucascheng24/COMP4432ML-DataProduct-A_Million_News_Headlines/blob/main/analysis/analysis_01.ipynb\" target=\"_parent\"><img src=\"https://colab.research.google.com/assets/colab-badge.svg\" alt=\"Open In Colab\"/></a>"
      ]
    },
    {
      "cell_type": "code",
      "execution_count": 3,
      "metadata": {
        "id": "BKGxPr4VDJlY"
      },
      "outputs": [],
      "source": [
        "import numpy as np\n",
        "import pandas as pd\n",
        "from sklearn import metrics\n",
        "from sklearn.cluster import KMeans\n",
        "from matplotlib import pyplot as plt\n",
        "from sklearn.metrics import silhouette_score\n",
        "from sklearn.metrics import calinski_harabasz_score\n"
      ]
    },
    {
      "cell_type": "code",
      "execution_count": 1,
      "metadata": {
        "colab": {
          "base_uri": "https://localhost:8080/"
        },
        "id": "nLvkH0puDNLv",
        "outputId": "cc2c3119-e7dd-43da-f265-9d88104fa936"
      },
      "outputs": [
        {
          "name": "stdout",
          "output_type": "stream",
          "text": [
            "Mounted at /content/drive\n"
          ]
        }
      ],
      "source": [
        "from google.colab import drive\n",
        "drive.mount('/content/drive')"
      ]
    },
    {
      "cell_type": "code",
      "execution_count": 4,
      "metadata": {
        "colab": {
          "base_uri": "https://localhost:8080/",
          "height": 299
        },
        "id": "aqzqgXmtDJlc",
        "outputId": "213424b1-922d-4310-fea1-19e6d8399dd5"
      },
      "outputs": [
        {
          "data": {
            "text/html": [
              "\n",
              "  <div id=\"df-5c1fb001-89e5-4586-9f11-8b59a1edca97\">\n",
              "    <div class=\"colab-df-container\">\n",
              "      <div>\n",
              "<style scoped>\n",
              "    .dataframe tbody tr th:only-of-type {\n",
              "        vertical-align: middle;\n",
              "    }\n",
              "\n",
              "    .dataframe tbody tr th {\n",
              "        vertical-align: top;\n",
              "    }\n",
              "\n",
              "    .dataframe thead th {\n",
              "        text-align: right;\n",
              "    }\n",
              "</style>\n",
              "<table border=\"1\" class=\"dataframe\">\n",
              "  <thead>\n",
              "    <tr style=\"text-align: right;\">\n",
              "      <th></th>\n",
              "      <th>0</th>\n",
              "      <th>1</th>\n",
              "      <th>2</th>\n",
              "      <th>3</th>\n",
              "      <th>4</th>\n",
              "      <th>5</th>\n",
              "      <th>6</th>\n",
              "      <th>7</th>\n",
              "      <th>8</th>\n",
              "      <th>9</th>\n",
              "      <th>...</th>\n",
              "      <th>90</th>\n",
              "      <th>91</th>\n",
              "      <th>92</th>\n",
              "      <th>93</th>\n",
              "      <th>94</th>\n",
              "      <th>95</th>\n",
              "      <th>96</th>\n",
              "      <th>97</th>\n",
              "      <th>98</th>\n",
              "      <th>99</th>\n",
              "    </tr>\n",
              "  </thead>\n",
              "  <tbody>\n",
              "    <tr>\n",
              "      <th>0</th>\n",
              "      <td>-1.605173</td>\n",
              "      <td>2.918016</td>\n",
              "      <td>3.635895</td>\n",
              "      <td>3.032418</td>\n",
              "      <td>-1.067833</td>\n",
              "      <td>-0.619074</td>\n",
              "      <td>0.077744</td>\n",
              "      <td>4.260468</td>\n",
              "      <td>-1.785537</td>\n",
              "      <td>-0.382405</td>\n",
              "      <td>...</td>\n",
              "      <td>-0.576467</td>\n",
              "      <td>-4.343246</td>\n",
              "      <td>-4.035582</td>\n",
              "      <td>2.030439</td>\n",
              "      <td>1.914190</td>\n",
              "      <td>1.162983</td>\n",
              "      <td>0.525023</td>\n",
              "      <td>-0.849185</td>\n",
              "      <td>4.737711</td>\n",
              "      <td>3.298404</td>\n",
              "    </tr>\n",
              "    <tr>\n",
              "      <th>1</th>\n",
              "      <td>-3.355265</td>\n",
              "      <td>2.932322</td>\n",
              "      <td>-1.542112</td>\n",
              "      <td>-1.061370</td>\n",
              "      <td>-0.537021</td>\n",
              "      <td>1.309853</td>\n",
              "      <td>0.297997</td>\n",
              "      <td>1.872366</td>\n",
              "      <td>2.512606</td>\n",
              "      <td>-0.485878</td>\n",
              "      <td>...</td>\n",
              "      <td>0.682736</td>\n",
              "      <td>1.090218</td>\n",
              "      <td>1.956932</td>\n",
              "      <td>0.150799</td>\n",
              "      <td>0.772252</td>\n",
              "      <td>0.546109</td>\n",
              "      <td>6.198019</td>\n",
              "      <td>1.977730</td>\n",
              "      <td>0.573191</td>\n",
              "      <td>0.081632</td>\n",
              "    </tr>\n",
              "    <tr>\n",
              "      <th>2</th>\n",
              "      <td>-3.575494</td>\n",
              "      <td>2.628979</td>\n",
              "      <td>-1.157703</td>\n",
              "      <td>2.871970</td>\n",
              "      <td>5.281962</td>\n",
              "      <td>0.134612</td>\n",
              "      <td>-0.685923</td>\n",
              "      <td>7.099079</td>\n",
              "      <td>-2.276028</td>\n",
              "      <td>-0.584899</td>\n",
              "      <td>...</td>\n",
              "      <td>0.798914</td>\n",
              "      <td>0.927138</td>\n",
              "      <td>0.364193</td>\n",
              "      <td>-0.894416</td>\n",
              "      <td>1.817210</td>\n",
              "      <td>1.839562</td>\n",
              "      <td>1.978682</td>\n",
              "      <td>0.768676</td>\n",
              "      <td>1.631881</td>\n",
              "      <td>1.259080</td>\n",
              "    </tr>\n",
              "    <tr>\n",
              "      <th>3</th>\n",
              "      <td>-2.738465</td>\n",
              "      <td>2.297199</td>\n",
              "      <td>-3.552115</td>\n",
              "      <td>-0.153152</td>\n",
              "      <td>3.881711</td>\n",
              "      <td>3.116054</td>\n",
              "      <td>-0.486585</td>\n",
              "      <td>6.104052</td>\n",
              "      <td>-0.640551</td>\n",
              "      <td>2.735867</td>\n",
              "      <td>...</td>\n",
              "      <td>0.392527</td>\n",
              "      <td>-0.798737</td>\n",
              "      <td>0.392198</td>\n",
              "      <td>-4.589910</td>\n",
              "      <td>2.451342</td>\n",
              "      <td>1.717005</td>\n",
              "      <td>6.155131</td>\n",
              "      <td>3.732857</td>\n",
              "      <td>4.377616</td>\n",
              "      <td>-0.780670</td>\n",
              "    </tr>\n",
              "    <tr>\n",
              "      <th>4</th>\n",
              "      <td>-0.720574</td>\n",
              "      <td>1.926974</td>\n",
              "      <td>-3.863183</td>\n",
              "      <td>2.911540</td>\n",
              "      <td>-2.030549</td>\n",
              "      <td>2.054497</td>\n",
              "      <td>0.600766</td>\n",
              "      <td>1.409616</td>\n",
              "      <td>-3.638590</td>\n",
              "      <td>5.000760</td>\n",
              "      <td>...</td>\n",
              "      <td>-1.621431</td>\n",
              "      <td>-1.019849</td>\n",
              "      <td>-0.137011</td>\n",
              "      <td>-1.120815</td>\n",
              "      <td>-2.129053</td>\n",
              "      <td>1.414706</td>\n",
              "      <td>0.391231</td>\n",
              "      <td>-3.103347</td>\n",
              "      <td>3.749530</td>\n",
              "      <td>-1.555853</td>\n",
              "    </tr>\n",
              "  </tbody>\n",
              "</table>\n",
              "<p>5 rows × 100 columns</p>\n",
              "</div>\n",
              "      <button class=\"colab-df-convert\" onclick=\"convertToInteractive('df-5c1fb001-89e5-4586-9f11-8b59a1edca97')\"\n",
              "              title=\"Convert this dataframe to an interactive table.\"\n",
              "              style=\"display:none;\">\n",
              "        \n",
              "  <svg xmlns=\"http://www.w3.org/2000/svg\" height=\"24px\"viewBox=\"0 0 24 24\"\n",
              "       width=\"24px\">\n",
              "    <path d=\"M0 0h24v24H0V0z\" fill=\"none\"/>\n",
              "    <path d=\"M18.56 5.44l.94 2.06.94-2.06 2.06-.94-2.06-.94-.94-2.06-.94 2.06-2.06.94zm-11 1L8.5 8.5l.94-2.06 2.06-.94-2.06-.94L8.5 2.5l-.94 2.06-2.06.94zm10 10l.94 2.06.94-2.06 2.06-.94-2.06-.94-.94-2.06-.94 2.06-2.06.94z\"/><path d=\"M17.41 7.96l-1.37-1.37c-.4-.4-.92-.59-1.43-.59-.52 0-1.04.2-1.43.59L10.3 9.45l-7.72 7.72c-.78.78-.78 2.05 0 2.83L4 21.41c.39.39.9.59 1.41.59.51 0 1.02-.2 1.41-.59l7.78-7.78 2.81-2.81c.8-.78.8-2.07 0-2.86zM5.41 20L4 18.59l7.72-7.72 1.47 1.35L5.41 20z\"/>\n",
              "  </svg>\n",
              "      </button>\n",
              "      \n",
              "  <style>\n",
              "    .colab-df-container {\n",
              "      display:flex;\n",
              "      flex-wrap:wrap;\n",
              "      gap: 12px;\n",
              "    }\n",
              "\n",
              "    .colab-df-convert {\n",
              "      background-color: #E8F0FE;\n",
              "      border: none;\n",
              "      border-radius: 50%;\n",
              "      cursor: pointer;\n",
              "      display: none;\n",
              "      fill: #1967D2;\n",
              "      height: 32px;\n",
              "      padding: 0 0 0 0;\n",
              "      width: 32px;\n",
              "    }\n",
              "\n",
              "    .colab-df-convert:hover {\n",
              "      background-color: #E2EBFA;\n",
              "      box-shadow: 0px 1px 2px rgba(60, 64, 67, 0.3), 0px 1px 3px 1px rgba(60, 64, 67, 0.15);\n",
              "      fill: #174EA6;\n",
              "    }\n",
              "\n",
              "    [theme=dark] .colab-df-convert {\n",
              "      background-color: #3B4455;\n",
              "      fill: #D2E3FC;\n",
              "    }\n",
              "\n",
              "    [theme=dark] .colab-df-convert:hover {\n",
              "      background-color: #434B5C;\n",
              "      box-shadow: 0px 1px 3px 1px rgba(0, 0, 0, 0.15);\n",
              "      filter: drop-shadow(0px 1px 2px rgba(0, 0, 0, 0.3));\n",
              "      fill: #FFFFFF;\n",
              "    }\n",
              "  </style>\n",
              "\n",
              "      <script>\n",
              "        const buttonEl =\n",
              "          document.querySelector('#df-5c1fb001-89e5-4586-9f11-8b59a1edca97 button.colab-df-convert');\n",
              "        buttonEl.style.display =\n",
              "          google.colab.kernel.accessAllowed ? 'block' : 'none';\n",
              "\n",
              "        async function convertToInteractive(key) {\n",
              "          const element = document.querySelector('#df-5c1fb001-89e5-4586-9f11-8b59a1edca97');\n",
              "          const dataTable =\n",
              "            await google.colab.kernel.invokeFunction('convertToInteractive',\n",
              "                                                     [key], {});\n",
              "          if (!dataTable) return;\n",
              "\n",
              "          const docLinkHtml = 'Like what you see? Visit the ' +\n",
              "            '<a target=\"_blank\" href=https://colab.research.google.com/notebooks/data_table.ipynb>data table notebook</a>'\n",
              "            + ' to learn more about interactive tables.';\n",
              "          element.innerHTML = '';\n",
              "          dataTable['output_type'] = 'display_data';\n",
              "          await google.colab.output.renderOutput(dataTable, element);\n",
              "          const docLink = document.createElement('div');\n",
              "          docLink.innerHTML = docLinkHtml;\n",
              "          element.appendChild(docLink);\n",
              "        }\n",
              "      </script>\n",
              "    </div>\n",
              "  </div>\n",
              "  "
            ],
            "text/plain": [
              "          0         1         2         3         4         5         6  \\\n",
              "0 -1.605173  2.918016  3.635895  3.032418 -1.067833 -0.619074  0.077744   \n",
              "1 -3.355265  2.932322 -1.542112 -1.061370 -0.537021  1.309853  0.297997   \n",
              "2 -3.575494  2.628979 -1.157703  2.871970  5.281962  0.134612 -0.685923   \n",
              "3 -2.738465  2.297199 -3.552115 -0.153152  3.881711  3.116054 -0.486585   \n",
              "4 -0.720574  1.926974 -3.863183  2.911540 -2.030549  2.054497  0.600766   \n",
              "\n",
              "          7         8         9  ...        90        91        92        93  \\\n",
              "0  4.260468 -1.785537 -0.382405  ... -0.576467 -4.343246 -4.035582  2.030439   \n",
              "1  1.872366  2.512606 -0.485878  ...  0.682736  1.090218  1.956932  0.150799   \n",
              "2  7.099079 -2.276028 -0.584899  ...  0.798914  0.927138  0.364193 -0.894416   \n",
              "3  6.104052 -0.640551  2.735867  ...  0.392527 -0.798737  0.392198 -4.589910   \n",
              "4  1.409616 -3.638590  5.000760  ... -1.621431 -1.019849 -0.137011 -1.120815   \n",
              "\n",
              "         94        95        96        97        98        99  \n",
              "0  1.914190  1.162983  0.525023 -0.849185  4.737711  3.298404  \n",
              "1  0.772252  0.546109  6.198019  1.977730  0.573191  0.081632  \n",
              "2  1.817210  1.839562  1.978682  0.768676  1.631881  1.259080  \n",
              "3  2.451342  1.717005  6.155131  3.732857  4.377616 -0.780670  \n",
              "4 -2.129053  1.414706  0.391231 -3.103347  3.749530 -1.555853  \n",
              "\n",
              "[5 rows x 100 columns]"
            ]
          },
          "execution_count": 4,
          "metadata": {},
          "output_type": "execute_result"
        }
      ],
      "source": [
        "# dataPath = '../processed_data/w2v_vec100_124418.csv'\n",
        "\n",
        "# df_headlines = pd.read_csv(dataPath)\n",
        "\n",
        "df_headlines = pd.read_csv('/content/drive/MyDrive/COMP4432/processed_data_set/w2v_vec100_124418.csv')\n",
        "\n",
        "df_headlines.head()"
      ]
    },
    {
      "cell_type": "code",
      "execution_count": 5,
      "metadata": {
        "colab": {
          "base_uri": "https://localhost:8080/"
        },
        "id": "uK8By49WDJle",
        "outputId": "8070761b-bc4f-4f45-9ab2-606abd8987b5"
      },
      "outputs": [
        {
          "data": {
            "text/plain": [
              "(124418, 100)"
            ]
          },
          "execution_count": 5,
          "metadata": {},
          "output_type": "execute_result"
        }
      ],
      "source": [
        "df_headlines.shape"
      ]
    },
    {
      "cell_type": "code",
      "execution_count": 7,
      "metadata": {
        "id": "kCvdTC5UFYIe"
      },
      "outputs": [],
      "source": [
        "import warnings\n",
        "warnings.filterwarnings(\"ignore\")"
      ]
    },
    {
      "cell_type": "code",
      "execution_count": 8,
      "metadata": {
        "colab": {
          "base_uri": "https://localhost:8080/"
        },
        "id": "TfUfoi4eDJlf",
        "outputId": "4448c910-b14a-4fa3-e26c-014ed1c92f3b"
      },
      "outputs": [
        {
          "name": "stdout",
          "output_type": "stream",
          "text": [
            "Num clusters: 2, Silhouette score: 0.08030026660083242, Calinski-Harabasz index: 10314.614431595824\n",
            "Num clusters: 3, Silhouette score: 0.07609134094005948, Calinski-Harabasz index: 9344.310076806854\n",
            "Num clusters: 4, Silhouette score: 0.06393468294660043, Calinski-Harabasz index: 7581.221782618852\n"
          ]
        }
      ],
      "source": [
        "\n",
        "# Try different numbers of clusters\n",
        "for num_clusters in range(2, 5):\n",
        "    # Cluster the word vectors using k-means clustering\n",
        "    kmeans = KMeans(n_clusters=num_clusters, random_state=0).fit(df_headlines)\n",
        "    \n",
        "    # Get the cluster assignments for each word\n",
        "    word_clusters = kmeans.labels_\n",
        "\n",
        "    # Calculate the Silhouette score and Calinski-Harabasz index\n",
        "    silhouette_score_val = silhouette_score(df_headlines, word_clusters)\n",
        "    calinski_harabasz_score_val = calinski_harabasz_score(df_headlines, word_clusters)\n",
        "\n",
        "    # Print the scores for this number of clusters\n",
        "    print(f'Num clusters: {num_clusters}, Silhouette score: {silhouette_score_val}, Calinski-Harabasz index: {calinski_harabasz_score_val}')"
      ]
    },
    {
      "cell_type": "code",
      "execution_count": 11,
      "metadata": {
        "colab": {
          "base_uri": "https://localhost:8080/"
        },
        "id": "X2qYuuG-JTmk",
        "outputId": "0da04d97-a42e-44ff-cb48-7e624e87d700"
      },
      "outputs": [
        {
          "name": "stdout",
          "output_type": "stream",
          "text": [
            "Num clusters: 5, Silhouette score: 0.038234167515585345, Calinski-Harabasz index: 6623.603209726552\n",
            "Num clusters: 6, Silhouette score: 0.03926510166152535, Calinski-Harabasz index: 5982.812727196816\n",
            "Num clusters: 7, Silhouette score: 0.041744022069625304, Calinski-Harabasz index: 5437.7133628586125\n",
            "Num clusters: 8, Silhouette score: 0.03985672140788628, Calinski-Harabasz index: 4996.520841316569\n",
            "Num clusters: 9, Silhouette score: 0.021222112549876885, Calinski-Harabasz index: 4650.66012536989\n",
            "Num clusters: 10, Silhouette score: 0.022709396058557475, Calinski-Harabasz index: 4359.765309003362\n"
          ]
        }
      ],
      "source": [
        "\n",
        "# Try different numbers of clusters\n",
        "for num_clusters in range(5, 11):\n",
        "    # Cluster the word vectors using k-means clustering\n",
        "    kmeans = KMeans(n_clusters=num_clusters, random_state=0).fit(df_headlines)\n",
        "    \n",
        "    # Get the cluster assignments for each word\n",
        "    word_clusters = kmeans.labels_\n",
        "\n",
        "    # Calculate the Silhouette score and Calinski-Harabasz index\n",
        "    silhouette_score_val = silhouette_score(df_headlines, word_clusters)\n",
        "    calinski_harabasz_score_val = calinski_harabasz_score(df_headlines, word_clusters)\n",
        "\n",
        "    # Print the scores for this number of clusters\n",
        "    print(f'Num clusters: {num_clusters}, Silhouette score: {silhouette_score_val}, Calinski-Harabasz index: {calinski_harabasz_score_val}')"
      ]
    }
  ],
  "metadata": {
    "colab": {
      "include_colab_link": true,
      "provenance": []
    },
    "kernelspec": {
      "display_name": "base",
      "language": "python",
      "name": "python3"
    },
    "language_info": {
      "codemirror_mode": {
        "name": "ipython",
        "version": 3
      },
      "file_extension": ".py",
      "mimetype": "text/x-python",
      "name": "python",
      "nbconvert_exporter": "python",
      "pygments_lexer": "ipython3",
      "version": "3.9.15"
    },
    "orig_nbformat": 4
  },
  "nbformat": 4,
  "nbformat_minor": 0
}
